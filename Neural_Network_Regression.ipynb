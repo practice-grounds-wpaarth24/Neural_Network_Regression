{
  "nbformat": 4,
  "nbformat_minor": 0,
  "metadata": {
    "colab": {
      "provenance": [],
      "authorship_tag": "ABX9TyOCWMvR1SpbU9nc9GbY6XTp"
    },
    "kernelspec": {
      "name": "python3",
      "display_name": "Python 3"
    },
    "language_info": {
      "name": "python"
    }
  },
  "cells": [
    {
      "cell_type": "code",
      "execution_count": null,
      "metadata": {
        "id": "5UX385VvrU1q"
      },
      "outputs": [],
      "source": [
        "import tensorflow as tf\n",
        "import numpy as np\n",
        "import matplotlib.pyplot as plt"
      ]
    },
    {
      "cell_type": "code",
      "source": [
        "X = np.array([-7.0,-4.0,-1.0,2.0,5.0,8.0,11.0,14.0])\n",
        "Y = np.array([3.0,6.0,9.0,12.0,15.0,18.0,21.0,24.0])\n",
        "plt.scatter(X,Y)"
      ],
      "metadata": {
        "colab": {
          "base_uri": "https://localhost:8080/",
          "height": 453
        },
        "id": "8DN7hx5LrbSw",
        "outputId": "f91ed9c7-3a9a-4bbd-a1d0-12a6a1f9ec3c"
      },
      "execution_count": null,
      "outputs": [
        {
          "output_type": "execute_result",
          "data": {
            "text/plain": [
              "<matplotlib.collections.PathCollection at 0x7e093464e230>"
            ]
          },
          "metadata": {},
          "execution_count": 2
        },
        {
          "output_type": "display_data",
          "data": {
            "text/plain": [
              "<Figure size 640x480 with 1 Axes>"
            ],
            "image/png": "[encoded data removed]"
          },
          "metadata": {}
        }
      ]
    },
    {
      "cell_type": "code",
      "source": [
        "tf.random.set_seed(42)\n",
        "\n",
        "#Create a model\n",
        "model = tf.keras.Sequential()\n",
        "model.add(tf.keras.layers.Dense(1))\n",
        "\n",
        "#Compile the model\n",
        "model.compile(loss = tf.keras.losses.mae, # mae stands for mean absolute error\n",
        "              optimizer = tf.keras.optimizers.SGD(), #SGD stands for stochastic gradient descent\n",
        "              metrics =[\"mae\"])\n",
        "\n",
        "#Model fitting\n",
        "model.fit(tf.expand_dims(X,axis=-1), Y, epochs = 5)"
      ],
      "metadata": {
        "colab": {
          "base_uri": "https://localhost:8080/"
        },
        "id": "hYBuzb_7rdFP",
        "outputId": "abdcee4b-312c-4033-920e-2fabe8e7d68a"
      },
      "execution_count": null,
      "outputs": [
        {
          "output_type": "stream",
          "name": "stdout",
          "text": [
            "Epoch 1/5\n",
            "1/1 [==============================] - 1s 885ms/step - loss: 9.9868 - mae: 9.9868\n",
            "Epoch 2/5\n",
            "1/1 [==============================] - 0s 13ms/step - loss: 9.8543 - mae: 9.8543\n",
            "Epoch 3/5\n",
            "1/1 [==============================] - 0s 23ms/step - loss: 9.7218 - mae: 9.7218\n",
            "Epoch 4/5\n",
            "1/1 [==============================] - 0s 20ms/step - loss: 9.5893 - mae: 9.5893\n",
            "Epoch 5/5\n",
            "1/1 [==============================] - 0s 15ms/step - loss: 9.4568 - mae: 9.4568\n"
          ]
        },
        {
          "output_type": "execute_result",
          "data": {
            "text/plain": [
              "<keras.src.callbacks.History at 0x78236dde16c0>"
            ]
          },
          "metadata": {},
          "execution_count": 3
        }
      ]
    },
    {
      "cell_type": "code",
      "source": [
        "model.predict([17.0])"
      ],
      "metadata": {
        "colab": {
          "base_uri": "https://localhost:8080/"
        },
        "id": "m1rqkG62t2e9",
        "outputId": "b0df69eb-5104-4804-e182-ff569e4830cd"
      },
      "execution_count": null,
      "outputs": [
        {
          "output_type": "stream",
          "name": "stdout",
          "text": [
            "1/1 [==============================] - 0s 151ms/step\n"
          ]
        },
        {
          "output_type": "execute_result",
          "data": {
            "text/plain": [
              "array([[20.08892]], dtype=float32)"
            ]
          },
          "metadata": {},
          "execution_count": 4
        }
      ]
    },
    {
      "cell_type": "code",
      "source": [
        "tf.random.set_seed(42)"
      ],
      "metadata": {
        "id": "CAanHA6Wwf2d"
      },
      "execution_count": null,
      "outputs": []
    },
    {
      "cell_type": "code",
      "source": [
        "model1 = tf.keras.Sequential()\n",
        "model1.add(tf.keras.layers.Dense(100, activation='relu'))\n",
        "model1.add(tf.keras.layers.Dense(100, activation='relu'))\n",
        "model1.add(tf.keras.layers.Dense(100, activation='relu'))\n",
        "model1.add(tf.keras.layers.Dense(1))"
      ],
      "metadata": {
        "id": "1pPA0lk3oFNd"
      },
      "execution_count": null,
      "outputs": []
    },
    {
      "cell_type": "code",
      "source": [
        "model1.compile(loss = tf.keras.losses.mae,\n",
        "              optimizer = tf.keras.optimizers.Adam(learning_rate=0.000001),\n",
        "              metrics = ['mae'])"
      ],
      "metadata": {
        "id": "rIqGYVKfodd0"
      },
      "execution_count": null,
      "outputs": []
    },
    {
      "cell_type": "code",
      "source": [
        "model1.fit(tf.expand_dims(X,axis=-1), Y, epochs = 100)"
      ],
      "metadata": {
        "colab": {
          "base_uri": "https://localhost:8080/"
        },
        "id": "2VtOquZ8o1qH",
        "outputId": "96c72c1d-c418-4f5d-a868-133e3a3e995c"
      },
      "execution_count": null,
      "outputs": [
        {
          "output_type": "stream",
          "name": "stdout",
          "text": [
            "Epoch 1/100\n",
            "1/1 [==============================] - 2s 2s/step - loss: 2.8493 - mae: 2.8493\n",
            "Epoch 2/100\n",
            "1/1 [==============================] - 0s 14ms/step - loss: 2.8491 - mae: 2.8491\n",
            "Epoch 3/100\n",
            "1/1 [==============================] - 0s 12ms/step - loss: 2.8489 - mae: 2.8489\n",
            "Epoch 4/100\n",
            "1/1 [==============================] - 0s 13ms/step - loss: 2.8487 - mae: 2.8487\n",
            "Epoch 5/100\n",
            "1/1 [==============================] - 0s 11ms/step - loss: 2.8485 - mae: 2.8485\n",
            "Epoch 6/100\n",
            "1/1 [==============================] - 0s 24ms/step - loss: 2.8483 - mae: 2.8483\n",
            "Epoch 7/100\n",
            "1/1 [==============================] - 0s 37ms/step - loss: 2.8481 - mae: 2.8481\n",
            "Epoch 8/100\n",
            "1/1 [==============================] - 0s 28ms/step - loss: 2.8479 - mae: 2.8479\n",
            "Epoch 9/100\n",
            "1/1 [==============================] - 0s 34ms/step - loss: 2.8477 - mae: 2.8477\n",
            "Epoch 10/100\n",
            "1/1 [==============================] - 0s 23ms/step - loss: 2.8475 - mae: 2.8475\n",
            "Epoch 11/100\n",
            "1/1 [==============================] - 0s 25ms/step - loss: 2.8473 - mae: 2.8473\n",
            "Epoch 12/100\n",
            "1/1 [==============================] - 0s 24ms/step - loss: 2.8471 - mae: 2.8471\n",
            "Epoch 13/100\n",
            "1/1 [==============================] - 0s 23ms/step - loss: 2.8469 - mae: 2.8469\n",
            "Epoch 14/100\n",
            "1/1 [==============================] - 0s 15ms/step - loss: 2.8467 - mae: 2.8467\n",
            "Epoch 15/100\n",
            "1/1 [==============================] - 0s 15ms/step - loss: 2.8465 - mae: 2.8465\n",
            "Epoch 16/100\n",
            "1/1 [==============================] - 0s 42ms/step - loss: 2.8463 - mae: 2.8463\n",
            "Epoch 17/100\n",
            "1/1 [==============================] - 0s 24ms/step - loss: 2.8461 - mae: 2.8461\n",
            "Epoch 18/100\n",
            "1/1 [==============================] - 0s 21ms/step - loss: 2.8459 - mae: 2.8459\n",
            "Epoch 19/100\n",
            "1/1 [==============================] - 0s 35ms/step - loss: 2.8457 - mae: 2.8457\n",
            "Epoch 20/100\n",
            "1/1 [==============================] - 0s 10ms/step - loss: 2.8455 - mae: 2.8455\n",
            "Epoch 21/100\n",
            "1/1 [==============================] - 0s 11ms/step - loss: 2.8453 - mae: 2.8453\n",
            "Epoch 22/100\n",
            "1/1 [==============================] - 0s 11ms/step - loss: 2.8451 - mae: 2.8451\n",
            "Epoch 23/100\n",
            "1/1 [==============================] - 0s 10ms/step - loss: 2.8449 - mae: 2.8449\n",
            "Epoch 24/100\n",
            "1/1 [==============================] - 0s 10ms/step - loss: 2.8447 - mae: 2.8447\n",
            "Epoch 25/100\n",
            "1/1 [==============================] - 0s 14ms/step - loss: 2.8446 - mae: 2.8446\n",
            "Epoch 26/100\n",
            "1/1 [==============================] - 0s 13ms/step - loss: 2.8444 - mae: 2.8444\n",
            "Epoch 27/100\n",
            "1/1 [==============================] - 0s 14ms/step - loss: 2.8442 - mae: 2.8442\n",
            "Epoch 28/100\n",
            "1/1 [==============================] - 0s 10ms/step - loss: 2.8440 - mae: 2.8440\n",
            "Epoch 29/100\n",
            "1/1 [==============================] - 0s 10ms/step - loss: 2.8438 - mae: 2.8438\n",
            "Epoch 30/100\n",
            "1/1 [==============================] - 0s 11ms/step - loss: 2.8436 - mae: 2.8436\n",
            "Epoch 31/100\n",
            "1/1 [==============================] - 0s 11ms/step - loss: 2.8434 - mae: 2.8434\n",
            "Epoch 32/100\n",
            "1/1 [==============================] - 0s 12ms/step - loss: 2.8432 - mae: 2.8432\n",
            "Epoch 33/100\n",
            "1/1 [==============================] - 0s 12ms/step - loss: 2.8430 - mae: 2.8430\n",
            "Epoch 34/100\n",
            "1/1 [==============================] - 0s 11ms/step - loss: 2.8428 - mae: 2.8428\n",
            "Epoch 35/100\n",
            "1/1 [==============================] - 0s 11ms/step - loss: 2.8426 - mae: 2.8426\n",
            "Epoch 36/100\n",
            "1/1 [==============================] - 0s 10ms/step - loss: 2.8424 - mae: 2.8424\n",
            "Epoch 37/100\n",
            "1/1 [==============================] - 0s 11ms/step - loss: 2.8422 - mae: 2.8422\n",
            "Epoch 38/100\n",
            "1/1 [==============================] - 0s 11ms/step - loss: 2.8420 - mae: 2.8420\n",
            "Epoch 39/100\n",
            "1/1 [==============================] - 0s 11ms/step - loss: 2.8418 - mae: 2.8418\n",
            "Epoch 40/100\n",
            "1/1 [==============================] - 0s 10ms/step - loss: 2.8416 - mae: 2.8416\n",
            "Epoch 41/100\n",
            "1/1 [==============================] - 0s 11ms/step - loss: 2.8414 - mae: 2.8414\n",
            "Epoch 42/100\n",
            "1/1 [==============================] - 0s 12ms/step - loss: 2.8412 - mae: 2.8412\n",
            "Epoch 43/100\n",
            "1/1 [==============================] - 0s 12ms/step - loss: 2.8410 - mae: 2.8410\n",
            "Epoch 44/100\n",
            "1/1 [==============================] - 0s 12ms/step - loss: 2.8408 - mae: 2.8408\n",
            "Epoch 45/100\n",
            "1/1 [==============================] - 0s 14ms/step - loss: 2.8406 - mae: 2.8406\n",
            "Epoch 46/100\n",
            "1/1 [==============================] - 0s 12ms/step - loss: 2.8404 - mae: 2.8404\n",
            "Epoch 47/100\n",
            "1/1 [==============================] - 0s 12ms/step - loss: 2.8402 - mae: 2.8402\n",
            "Epoch 48/100\n",
            "1/1 [==============================] - 0s 19ms/step - loss: 2.8400 - mae: 2.8400\n",
            "Epoch 49/100\n",
            "1/1 [==============================] - 0s 14ms/step - loss: 2.8399 - mae: 2.8399\n",
            "Epoch 50/100\n",
            "1/1 [==============================] - 0s 15ms/step - loss: 2.8397 - mae: 2.8397\n",
            "Epoch 51/100\n",
            "1/1 [==============================] - 0s 12ms/step - loss: 2.8395 - mae: 2.8395\n",
            "Epoch 52/100\n",
            "1/1 [==============================] - 0s 13ms/step - loss: 2.8393 - mae: 2.8393\n",
            "Epoch 53/100\n",
            "1/1 [==============================] - 0s 12ms/step - loss: 2.8391 - mae: 2.8391\n",
            "Epoch 54/100\n",
            "1/1 [==============================] - 0s 13ms/step - loss: 2.8389 - mae: 2.8389\n",
            "Epoch 55/100\n",
            "1/1 [==============================] - 0s 16ms/step - loss: 2.8387 - mae: 2.8387\n",
            "Epoch 56/100\n",
            "1/1 [==============================] - 0s 18ms/step - loss: 2.8385 - mae: 2.8385\n",
            "Epoch 57/100\n",
            "1/1 [==============================] - 0s 21ms/step - loss: 2.8383 - mae: 2.8383\n",
            "Epoch 58/100\n",
            "1/1 [==============================] - 0s 13ms/step - loss: 2.8381 - mae: 2.8381\n",
            "Epoch 59/100\n",
            "1/1 [==============================] - 0s 19ms/step - loss: 2.8379 - mae: 2.8379\n",
            "Epoch 60/100\n",
            "1/1 [==============================] - 0s 13ms/step - loss: 2.8377 - mae: 2.8377\n",
            "Epoch 61/100\n",
            "1/1 [==============================] - 0s 13ms/step - loss: 2.8375 - mae: 2.8375\n",
            "Epoch 62/100\n",
            "1/1 [==============================] - 0s 13ms/step - loss: 2.8373 - mae: 2.8373\n",
            "Epoch 63/100\n",
            "1/1 [==============================] - 0s 13ms/step - loss: 2.8371 - mae: 2.8371\n",
            "Epoch 64/100\n",
            "1/1 [==============================] - 0s 20ms/step - loss: 2.8369 - mae: 2.8369\n",
            "Epoch 65/100\n",
            "1/1 [==============================] - 0s 13ms/step - loss: 2.8367 - mae: 2.8367\n",
            "Epoch 66/100\n",
            "1/1 [==============================] - 0s 12ms/step - loss: 2.8365 - mae: 2.8365\n",
            "Epoch 67/100\n",
            "1/1 [==============================] - 0s 17ms/step - loss: 2.8363 - mae: 2.8363\n",
            "Epoch 68/100\n",
            "1/1 [==============================] - 0s 13ms/step - loss: 2.8361 - mae: 2.8361\n",
            "Epoch 69/100\n",
            "1/1 [==============================] - 0s 15ms/step - loss: 2.8359 - mae: 2.8359\n",
            "Epoch 70/100\n",
            "1/1 [==============================] - 0s 16ms/step - loss: 2.8358 - mae: 2.8358\n",
            "Epoch 71/100\n",
            "1/1 [==============================] - 0s 14ms/step - loss: 2.8356 - mae: 2.8356\n",
            "Epoch 72/100\n",
            "1/1 [==============================] - 0s 14ms/step - loss: 2.8354 - mae: 2.8354\n",
            "Epoch 73/100\n",
            "1/1 [==============================] - 0s 13ms/step - loss: 2.8352 - mae: 2.8352\n",
            "Epoch 74/100\n",
            "1/1 [==============================] - 0s 13ms/step - loss: 2.8350 - mae: 2.8350\n",
            "Epoch 75/100\n",
            "1/1 [==============================] - 0s 13ms/step - loss: 2.8348 - mae: 2.8348\n",
            "Epoch 76/100\n",
            "1/1 [==============================] - 0s 13ms/step - loss: 2.8346 - mae: 2.8346\n",
            "Epoch 77/100\n",
            "1/1 [==============================] - 0s 13ms/step - loss: 2.8344 - mae: 2.8344\n",
            "Epoch 78/100\n",
            "1/1 [==============================] - 0s 13ms/step - loss: 2.8342 - mae: 2.8342\n",
            "Epoch 79/100\n",
            "1/1 [==============================] - 0s 12ms/step - loss: 2.8340 - mae: 2.8340\n",
            "Epoch 80/100\n",
            "1/1 [==============================] - 0s 12ms/step - loss: 2.8338 - mae: 2.8338\n",
            "Epoch 81/100\n",
            "1/1 [==============================] - 0s 15ms/step - loss: 2.8336 - mae: 2.8336\n",
            "Epoch 82/100\n",
            "1/1 [==============================] - 0s 24ms/step - loss: 2.8334 - mae: 2.8334\n",
            "Epoch 83/100\n",
            "1/1 [==============================] - 0s 26ms/step - loss: 2.8332 - mae: 2.8332\n",
            "Epoch 84/100\n",
            "1/1 [==============================] - 0s 16ms/step - loss: 2.8330 - mae: 2.8330\n",
            "Epoch 85/100\n",
            "1/1 [==============================] - 0s 20ms/step - loss: 2.8328 - mae: 2.8328\n",
            "Epoch 86/100\n",
            "1/1 [==============================] - 0s 14ms/step - loss: 2.8326 - mae: 2.8326\n",
            "Epoch 87/100\n",
            "1/1 [==============================] - 0s 17ms/step - loss: 2.8324 - mae: 2.8324\n",
            "Epoch 88/100\n",
            "1/1 [==============================] - 0s 16ms/step - loss: 2.8322 - mae: 2.8322\n",
            "Epoch 89/100\n",
            "1/1 [==============================] - 0s 13ms/step - loss: 2.8320 - mae: 2.8320\n",
            "Epoch 90/100\n",
            "1/1 [==============================] - 0s 12ms/step - loss: 2.8318 - mae: 2.8318\n",
            "Epoch 91/100\n",
            "1/1 [==============================] - 0s 18ms/step - loss: 2.8317 - mae: 2.8317\n",
            "Epoch 92/100\n",
            "1/1 [==============================] - 0s 15ms/step - loss: 2.8315 - mae: 2.8315\n",
            "Epoch 93/100\n",
            "1/1 [==============================] - 0s 17ms/step - loss: 2.8313 - mae: 2.8313\n",
            "Epoch 94/100\n",
            "1/1 [==============================] - 0s 17ms/step - loss: 2.8311 - mae: 2.8311\n",
            "Epoch 95/100\n",
            "1/1 [==============================] - 0s 13ms/step - loss: 2.8309 - mae: 2.8309\n",
            "Epoch 96/100\n",
            "1/1 [==============================] - 0s 17ms/step - loss: 2.8307 - mae: 2.8307\n",
            "Epoch 97/100\n",
            "1/1 [==============================] - 0s 16ms/step - loss: 2.8305 - mae: 2.8305\n",
            "Epoch 98/100\n",
            "1/1 [==============================] - 0s 15ms/step - loss: 2.8303 - mae: 2.8303\n",
            "Epoch 99/100\n",
            "1/1 [==============================] - 0s 11ms/step - loss: 2.8301 - mae: 2.8301\n",
            "Epoch 100/100\n",
            "1/1 [==============================] - 0s 12ms/step - loss: 2.8299 - mae: 2.8299\n"
          ]
        },
        {
          "output_type": "execute_result",
          "data": {
            "text/plain": [
              "<keras.src.callbacks.History at 0x7e092fb919f0>"
            ]
          },
          "metadata": {},
          "execution_count": 15
        }
      ]
    },
    {
      "cell_type": "code",
      "source": [
        "model1.predict([10.0])"
      ],
      "metadata": {
        "colab": {
          "base_uri": "https://localhost:8080/"
        },
        "id": "-ytTvt5cp5su",
        "outputId": "05d8326d-e84b-4645-d5ae-c0288ed44d62"
      },
      "execution_count": null,
      "outputs": [
        {
          "output_type": "stream",
          "name": "stdout",
          "text": [
            "1/1 [==============================] - 0s 147ms/step\n"
          ]
        },
        {
          "output_type": "execute_result",
          "data": {
            "text/plain": [
              "array([[19.546907]], dtype=float32)"
            ]
          },
          "metadata": {},
          "execution_count": 16
        }
      ]
    },
    {
      "cell_type": "code",
      "source": [],
      "metadata": {
        "id": "61yUdJwJp_oS"
      },
      "execution_count": null,
      "outputs": []
    }
  ]
}