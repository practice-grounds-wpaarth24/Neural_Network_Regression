{
  "nbformat": 4,
  "nbformat_minor": 0,
  "metadata": {
    "colab": {
      "provenance": [],
      "gpuType": "T4",
      "authorship_tag": "ABX9TyPKZjH80ou8u/rRkdtmN6r+",
      "include_colab_link": true
    },
    "kernelspec": {
      "name": "python3",
      "display_name": "Python 3"
    },
    "language_info": {
      "name": "python"
    },
    "accelerator": "GPU"
  },
  "cells": [
    {
      "cell_type": "markdown",
      "metadata": {
        "id": "view-in-github",
        "colab_type": "text"
      },
      "source": [
        "<a href=\"https://colab.research.google.com/github/practice-grounds-wpaarth24/Neural_Network_Regression/blob/main/Tensor_Fundamentals.ipynb\" target=\"_parent\"><img src=\"https://colab.research.google.com/assets/colab-badge.svg\" alt=\"Open In Colab\"/></a>"
      ]
    },
    {
      "cell_type": "code",
      "execution_count": null,
      "metadata": {
        "colab": {
          "base_uri": "https://localhost:8080/"
        },
        "id": "Rc_-Msgpstfq",
        "outputId": "da732686-f089-4553-c411-2fed9f61944a"
      },
      "outputs": [
        {
          "output_type": "stream",
          "name": "stdout",
          "text": [
            "tf.Tensor(\n",
            "[[ 0.8357487   0.20849545  1.4040176  -2.7352831 ]\n",
            " [ 1.223223   -1.8653691   0.00511209 -1.0493752 ]\n",
            " [ 0.7901182   1.585549    0.4356279   0.23645182]\n",
            " [-0.15898712  1.302304    0.959224    0.85874265]], shape=(4, 4), dtype=float32)\n"
          ]
        },
        {
          "output_type": "execute_result",
          "data": {
            "text/plain": [
              "2"
            ]
          },
          "metadata": {},
          "execution_count": 2
        }
      ],
      "source": [
        "import tensorflow as tf\n",
        "\n",
        "random = tf.random.Generator.from_seed(30)\n",
        "random_normal = random.normal(shape=(4, 4))\n",
        "print(random_normal)\n",
        "random_normal.ndim"
      ]
    },
    {
      "cell_type": "code",
      "source": [
        "matrix = tf.constant([[10,5],\n",
        "                      [3,4],\n",
        "                      [8,10]])\n"
      ],
      "metadata": {
        "id": "74W4RvQOsurA"
      },
      "execution_count": null,
      "outputs": []
    },
    {
      "cell_type": "code",
      "source": [
        "tf.random.set_seed(42)\n",
        "tf.random.shuffle(matrix, seed=42)"
      ],
      "metadata": {
        "colab": {
          "base_uri": "https://localhost:8080/"
        },
        "id": "FVL_4fd0tb0Z",
        "outputId": "7f46b286-d890-4c02-b2a2-db30762ef539"
      },
      "execution_count": null,
      "outputs": [
        {
          "output_type": "execute_result",
          "data": {
            "text/plain": [
              "<tf.Tensor: shape=(3, 2), dtype=int32, numpy=\n",
              "array([[10,  5],\n",
              "       [ 3,  4],\n",
              "       [ 8, 10]], dtype=int32)>"
            ]
          },
          "metadata": {},
          "execution_count": 4
        }
      ]
    },
    {
      "cell_type": "code",
      "source": [
        "A = tf.random.Generator.from_seed(42)\n",
        "A = A.uniform(shape=[3,4,4,4])\n",
        "A[2]"
      ],
      "metadata": {
        "id": "iJ-1fk9hu93Y",
        "colab": {
          "base_uri": "https://localhost:8080/"
        },
        "outputId": "b7fe5d39-b010-4871-cfd7-834a75fb72ab"
      },
      "execution_count": null,
      "outputs": [
        {
          "output_type": "execute_result",
          "data": {
            "text/plain": [
              "<tf.Tensor: shape=(4, 4, 4), dtype=float32, numpy=\n",
              "array([[[0.23609889, 0.56451845, 0.44649565, 0.41026497],\n",
              "        [0.60833323, 0.50973356, 0.31043375, 0.07893777],\n",
              "        [0.57783425, 0.16236854, 0.63097   , 0.7254863 ],\n",
              "        [0.8393048 , 0.89883757, 0.64980876, 0.0960505 ]],\n",
              "\n",
              "       [[0.06560767, 0.6030959 , 0.5261806 , 0.29263592],\n",
              "        [0.36828172, 0.9125351 , 0.9311757 , 0.80997777],\n",
              "        [0.88897777, 0.38208318, 0.46514285, 0.26686597],\n",
              "        [0.57392883, 0.9305825 , 0.97072124, 0.264992  ]],\n",
              "\n",
              "       [[0.48514366, 0.64945745, 0.08074284, 0.03533149],\n",
              "        [0.66343594, 0.5920874 , 0.89842534, 0.45204258],\n",
              "        [0.05900347, 0.54448843, 0.06236184, 0.00481558],\n",
              "        [0.0548979 , 0.30745876, 0.08170903, 0.05909014]],\n",
              "\n",
              "       [[0.6011734 , 0.42620623, 0.3024857 , 0.7693486 ],\n",
              "        [0.56310844, 0.00256145, 0.94034374, 0.30628622],\n",
              "        [0.40648186, 0.89660215, 0.9323058 , 0.01358628],\n",
              "        [0.7463044 , 0.3287711 , 0.89990544, 0.80902195]]], dtype=float32)>"
            ]
          },
          "metadata": {},
          "execution_count": 5
        }
      ]
    },
    {
      "cell_type": "code",
      "source": [
        "A[:2,:1,:4,:4]"
      ],
      "metadata": {
        "id": "FWQEORZ_nXN5",
        "colab": {
          "base_uri": "https://localhost:8080/"
        },
        "outputId": "6951daf0-181b-49c3-c6d1-7e67e33d1291"
      },
      "execution_count": null,
      "outputs": [
        {
          "output_type": "execute_result",
          "data": {
            "text/plain": [
              "<tf.Tensor: shape=(2, 1, 4, 4), dtype=float32, numpy=\n",
              "array([[[[0.7493447 , 0.73561966, 0.45230794, 0.49039817],\n",
              "         [0.1889317 , 0.52027524, 0.8736881 , 0.46921718],\n",
              "         [0.63932586, 0.6467117 , 0.96246755, 0.41009164],\n",
              "         [0.86540747, 0.8862978 , 0.27795732, 0.8857763 ]]],\n",
              "\n",
              "\n",
              "       [[[0.18828917, 0.6658715 , 0.6190208 , 0.04422736],\n",
              "         [0.49626625, 0.6474861 , 0.3557682 , 0.32033885],\n",
              "         [0.33705008, 0.7391062 , 0.16512096, 0.41555858],\n",
              "         [0.78638244, 0.45899415, 0.42686343, 0.5630441 ]]]],\n",
              "      dtype=float32)>"
            ]
          },
          "metadata": {},
          "execution_count": 6
        }
      ]
    },
    {
      "cell_type": "code",
      "source": [
        "tf.size(A[0]).numpy()"
      ],
      "metadata": {
        "colab": {
          "base_uri": "https://localhost:8080/"
        },
        "id": "9TF59O9J0Rru",
        "outputId": "e094a5f1-439c-4d26-fb2b-5966cdbaf639"
      },
      "execution_count": null,
      "outputs": [
        {
          "output_type": "execute_result",
          "data": {
            "text/plain": [
              "64"
            ]
          },
          "metadata": {},
          "execution_count": 7
        }
      ]
    },
    {
      "cell_type": "code",
      "source": [
        "A1 = tf.random.Generator.from_seed(42)\n",
        "A1 = A1.normal(shape=[2,2])\n",
        "A1"
      ],
      "metadata": {
        "id": "EvyKnsZp4ADe",
        "colab": {
          "base_uri": "https://localhost:8080/"
        },
        "outputId": "8c3d8315-077e-402f-8a58-6a19c93fc75a"
      },
      "execution_count": null,
      "outputs": [
        {
          "output_type": "execute_result",
          "data": {
            "text/plain": [
              "<tf.Tensor: shape=(2, 2), dtype=float32, numpy=\n",
              "array([[-0.7565803 , -0.06854702],\n",
              "       [ 0.07595026, -1.2573844 ]], dtype=float32)>"
            ]
          },
          "metadata": {},
          "execution_count": 8
        }
      ]
    },
    {
      "cell_type": "code",
      "source": [
        "tf.expand_dims(A1, axis=-1)"
      ],
      "metadata": {
        "colab": {
          "base_uri": "https://localhost:8080/"
        },
        "id": "ziiX3PUDm4EO",
        "outputId": "625df826-e78a-42d6-e053-b740ac365053"
      },
      "execution_count": null,
      "outputs": [
        {
          "output_type": "execute_result",
          "data": {
            "text/plain": [
              "<tf.Tensor: shape=(2, 2, 1), dtype=float32, numpy=\n",
              "array([[[-0.7565803 ],\n",
              "        [-0.06854702]],\n",
              "\n",
              "       [[ 0.07595026],\n",
              "        [-1.2573844 ]]], dtype=float32)>"
            ]
          },
          "metadata": {},
          "execution_count": 9
        }
      ]
    },
    {
      "cell_type": "code",
      "source": [
        "t1 = tf.constant([[10,7], [7,10], [8,15]])\n",
        "t1 + 11\n",
        "t2 = tf.constant([[10,7], [8,15],[7,10]])"
      ],
      "metadata": {
        "id": "La0sSUTDnPQc"
      },
      "execution_count": null,
      "outputs": []
    },
    {
      "cell_type": "code",
      "source": [
        "t1.shape, t2.shape"
      ],
      "metadata": {
        "colab": {
          "base_uri": "https://localhost:8080/"
        },
        "id": "Gde10WESpWk6",
        "outputId": "e95bfe12-d1d6-4ae8-9de0-81bc5252f62a"
      },
      "execution_count": null,
      "outputs": [
        {
          "output_type": "execute_result",
          "data": {
            "text/plain": [
              "(TensorShape([3, 2]), TensorShape([3, 2]))"
            ]
          },
          "metadata": {},
          "execution_count": 11
        }
      ]
    },
    {
      "cell_type": "code",
      "source": [
        "tf.math.add(t1,t2)"
      ],
      "metadata": {
        "colab": {
          "base_uri": "https://localhost:8080/"
        },
        "id": "M3FUkX70p2GL",
        "outputId": "79eb966a-c8b8-40f9-b1c4-3fb85b3f29d2"
      },
      "execution_count": null,
      "outputs": [
        {
          "output_type": "execute_result",
          "data": {
            "text/plain": [
              "<tf.Tensor: shape=(3, 2), dtype=int32, numpy=\n",
              "array([[20, 14],\n",
              "       [15, 25],\n",
              "       [15, 25]], dtype=int32)>"
            ]
          },
          "metadata": {},
          "execution_count": 12
        }
      ]
    },
    {
      "cell_type": "code",
      "source": [
        "#tf.reshape(t2, shape=[3,2])"
      ],
      "metadata": {
        "id": "XmYBGLscqBSD"
      },
      "execution_count": null,
      "outputs": []
    },
    {
      "cell_type": "code",
      "source": [
        "t1,tf.transpose(t1)"
      ],
      "metadata": {
        "colab": {
          "base_uri": "https://localhost:8080/"
        },
        "id": "hdpydI1rWdKu",
        "outputId": "fd31c8a3-ee23-4663-cb87-645e295dc46f"
      },
      "execution_count": null,
      "outputs": [
        {
          "output_type": "execute_result",
          "data": {
            "text/plain": [
              "(<tf.Tensor: shape=(3, 2), dtype=int32, numpy=\n",
              " array([[10,  7],\n",
              "        [ 7, 10],\n",
              "        [ 8, 15]], dtype=int32)>,\n",
              " <tf.Tensor: shape=(2, 3), dtype=int32, numpy=\n",
              " array([[10,  7,  8],\n",
              "        [ 7, 10, 15]], dtype=int32)>)"
            ]
          },
          "metadata": {},
          "execution_count": 14
        }
      ]
    },
    {
      "cell_type": "code",
      "source": [
        "tf.matmul(tf.transpose(t1),t2)\n"
      ],
      "metadata": {
        "colab": {
          "base_uri": "https://localhost:8080/"
        },
        "id": "ZxFmssi0qhNk",
        "outputId": "9b6c5705-2ff2-4a8e-eaa1-a72c32151e9b"
      },
      "execution_count": null,
      "outputs": [
        {
          "output_type": "execute_result",
          "data": {
            "text/plain": [
              "<tf.Tensor: shape=(2, 2), dtype=int32, numpy=\n",
              "array([[212, 255],\n",
              "       [255, 349]], dtype=int32)>"
            ]
          },
          "metadata": {},
          "execution_count": 15
        }
      ]
    },
    {
      "cell_type": "code",
      "source": [
        "tf.tensordot(tf.transpose(t1),t2, axes=1)"
      ],
      "metadata": {
        "id": "XmMTNAEUqvnz",
        "colab": {
          "base_uri": "https://localhost:8080/"
        },
        "outputId": "40a5023a-8575-4309-9043-1bf72d931687"
      },
      "execution_count": null,
      "outputs": [
        {
          "output_type": "execute_result",
          "data": {
            "text/plain": [
              "<tf.Tensor: shape=(2, 2), dtype=int32, numpy=\n",
              "array([[212, 255],\n",
              "       [255, 349]], dtype=int32)>"
            ]
          },
          "metadata": {},
          "execution_count": 16
        }
      ]
    },
    {
      "cell_type": "code",
      "source": [
        "#Changing dtype\n",
        "B = tf.constant([1.7,4.1])\n",
        "B.dtype"
      ],
      "metadata": {
        "colab": {
          "base_uri": "https://localhost:8080/"
        },
        "id": "9iXicFFYqT6E",
        "outputId": "5cf2e139-e6c2-42c7-ce48-309d800f5649"
      },
      "execution_count": null,
      "outputs": [
        {
          "output_type": "execute_result",
          "data": {
            "text/plain": [
              "tf.float32"
            ]
          },
          "metadata": {},
          "execution_count": 17
        }
      ]
    },
    {
      "cell_type": "code",
      "source": [
        "B = tf.cast(B, dtype = tf.float16)\n",
        "B.dtype"
      ],
      "metadata": {
        "colab": {
          "base_uri": "https://localhost:8080/"
        },
        "id": "foSBPruLumpl",
        "outputId": "3530e92d-4cce-4c23-9a4b-7e830fa64389"
      },
      "execution_count": null,
      "outputs": [
        {
          "output_type": "execute_result",
          "data": {
            "text/plain": [
              "tf.float16"
            ]
          },
          "metadata": {},
          "execution_count": 18
        }
      ]
    },
    {
      "cell_type": "markdown",
      "source": [
        "# **Aggregation**\n",
        "tf.abs(X) converts -ve values in a tensor to positive\n",
        "*   Maximum:\n",
        "*   Minimum:\n",
        "*   Mean:\n",
        "*   Sum:\n",
        "*   Std Dev\n",
        "*   Variance"
      ],
      "metadata": {
        "id": "KuxJdZRQwlR_"
      }
    },
    {
      "cell_type": "code",
      "source": [
        "import numpy as np\n",
        "D = tf.constant(np.random.randint(0,100,size=50))\n",
        "D = tf.cast(D, dtype=tf.float32)"
      ],
      "metadata": {
        "id": "oupyAtCowo-D"
      },
      "execution_count": null,
      "outputs": []
    },
    {
      "cell_type": "code",
      "source": [
        "print(\"Maximum is: \",tf.reduce_max(D))\n",
        "print(\"Minimum is: \",tf.reduce_min(D))\n",
        "print(\"Mean is: \", tf.reduce_mean(D))\n",
        "print(\"Sum is: \", tf.reduce_sum(D))\n",
        "import tensorflow_probability as tfp\n",
        "print(\"Variance is: \",tfp.stats.variance(D))"
      ],
      "metadata": {
        "colab": {
          "base_uri": "https://localhost:8080/"
        },
        "id": "ZsoGLWDbw4PC",
        "outputId": "e58f7b36-3a03-4bf4-80d3-9ab39787230a"
      },
      "execution_count": null,
      "outputs": [
        {
          "output_type": "stream",
          "name": "stdout",
          "text": [
            "Maximum is:  tf.Tensor(98.0, shape=(), dtype=float32)\n",
            "Minimum is:  tf.Tensor(3.0, shape=(), dtype=float32)\n",
            "Mean is:  tf.Tensor(49.62, shape=(), dtype=float32)\n",
            "Sum is:  tf.Tensor(2481.0, shape=(), dtype=float32)\n",
            "Variance is:  tf.Tensor(841.0756, shape=(), dtype=float32)\n"
          ]
        }
      ]
    },
    {
      "cell_type": "code",
      "source": [
        "#Wont work unless dytpe if float32\n",
        "print(\"Standard Deviation is: \", tf.math.reduce_std(tf.cast(D,dtype = tf.float32)))\n",
        "print(\"Variance is: \", tf.math.reduce_variance(tf.cast(D,dtype = tf.float32)))"
      ],
      "metadata": {
        "colab": {
          "base_uri": "https://localhost:8080/"
        },
        "id": "ciOZ7irjyqOW",
        "outputId": "05c6e224-20e4-4e3b-9665-8477955fea37"
      },
      "execution_count": null,
      "outputs": [
        {
          "output_type": "stream",
          "name": "stdout",
          "text": [
            "Standard Deviation is:  tf.Tensor(29.001303, shape=(), dtype=float32)\n",
            "Variance is:  tf.Tensor(841.0756, shape=(), dtype=float32)\n"
          ]
        }
      ]
    },
    {
      "cell_type": "markdown",
      "source": [
        "# Finding Positional Maximum and Minimum\n",
        "* Returns the index of the max number"
      ],
      "metadata": {
        "id": "3oeeT-RO1ffj"
      }
    },
    {
      "cell_type": "code",
      "source": [
        "tf.random.set_seed(10)\n",
        "E = tf.random.uniform(shape=[50])\n",
        "E"
      ],
      "metadata": {
        "colab": {
          "base_uri": "https://localhost:8080/"
        },
        "id": "f5QUX8ej1FBg",
        "outputId": "69b37967-9949-4d41-cdd7-1176e065d432"
      },
      "execution_count": null,
      "outputs": [
        {
          "output_type": "execute_result",
          "data": {
            "text/plain": [
              "<tf.Tensor: shape=(50,), dtype=float32, numpy=\n",
              "array([0.644151  , 0.8082472 , 0.8976548 , 0.6368902 , 0.6270969 ,\n",
              "       0.9936013 , 0.02359486, 0.03668392, 0.5860578 , 0.5740315 ,\n",
              "       0.09047401, 0.5755553 , 0.25272822, 0.11045039, 0.61225283,\n",
              "       0.1290685 , 0.89660144, 0.06479812, 0.8622047 , 0.82242084,\n",
              "       0.4016037 , 0.7659943 , 0.4539342 , 0.32376182, 0.4617684 ,\n",
              "       0.32858098, 0.8104389 , 0.1609515 , 0.07981062, 0.5934839 ,\n",
              "       0.6243702 , 0.9112947 , 0.88744843, 0.9568223 , 0.436625  ,\n",
              "       0.9997524 , 0.24064243, 0.8281152 , 0.54077435, 0.8436167 ,\n",
              "       0.33806038, 0.9431902 , 0.08632314, 0.68907607, 0.53072953,\n",
              "       0.9125186 , 0.06304038, 0.95265174, 0.8152896 , 0.57640743],\n",
              "      dtype=float32)>"
            ]
          },
          "metadata": {},
          "execution_count": 22
        }
      ]
    },
    {
      "cell_type": "code",
      "source": [
        "E[tf.argmax(E)],E[tf.argmin(E)]"
      ],
      "metadata": {
        "colab": {
          "base_uri": "https://localhost:8080/"
        },
        "id": "mj5-kjkx6AeW",
        "outputId": "05065970-3f32-4523-a059-b2d0f46f5c29"
      },
      "execution_count": null,
      "outputs": [
        {
          "output_type": "execute_result",
          "data": {
            "text/plain": [
              "(<tf.Tensor: shape=(), dtype=float32, numpy=0.9997524>,\n",
              " <tf.Tensor: shape=(), dtype=float32, numpy=0.023594856>)"
            ]
          },
          "metadata": {},
          "execution_count": 23
        }
      ]
    },
    {
      "cell_type": "code",
      "source": [
        "tf.reduce_max(E) == E[tf.argmax(E)]"
      ],
      "metadata": {
        "colab": {
          "base_uri": "https://localhost:8080/"
        },
        "id": "z-KjVmaI6PMG",
        "outputId": "6f7c788f-0d91-44a7-cc63-f7f04d90dcf9"
      },
      "execution_count": null,
      "outputs": [
        {
          "output_type": "execute_result",
          "data": {
            "text/plain": [
              "<tf.Tensor: shape=(), dtype=bool, numpy=True>"
            ]
          },
          "metadata": {},
          "execution_count": 24
        }
      ]
    },
    {
      "cell_type": "markdown",
      "source": [
        "# **Squeezing a tensor**\n",
        "Removes all dimensions of value 1"
      ],
      "metadata": {
        "id": "qUVKjt_So7lD"
      }
    },
    {
      "cell_type": "code",
      "source": [
        "tf.random.set_seed(42)\n",
        "F = tf.constant(tf.random.uniform(shape=[50]), shape=[1,1,1,50])\n",
        "F"
      ],
      "metadata": {
        "colab": {
          "base_uri": "https://localhost:8080/"
        },
        "id": "Isj4VfdB6flt",
        "outputId": "abbacedf-0d8e-48db-ade2-36a2e930f7ad"
      },
      "execution_count": null,
      "outputs": [
        {
          "output_type": "execute_result",
          "data": {
            "text/plain": [
              "<tf.Tensor: shape=(1, 1, 1, 50), dtype=float32, numpy=\n",
              "array([[[[0.6645621 , 0.44100678, 0.3528825 , 0.46448255, 0.03366041,\n",
              "          0.68467236, 0.74011743, 0.8724445 , 0.22632635, 0.22319686,\n",
              "          0.3103881 , 0.7223358 , 0.13318717, 0.5480639 , 0.5746088 ,\n",
              "          0.8996835 , 0.00946367, 0.5212307 , 0.6345445 , 0.1993283 ,\n",
              "          0.72942245, 0.54583454, 0.10756552, 0.6767061 , 0.6602763 ,\n",
              "          0.33695042, 0.60141766, 0.21062577, 0.8527372 , 0.44062173,\n",
              "          0.9485276 , 0.23752594, 0.81179297, 0.5263394 , 0.494308  ,\n",
              "          0.21612847, 0.8457197 , 0.8718841 , 0.3083862 , 0.6868038 ,\n",
              "          0.23764038, 0.7817228 , 0.9671384 , 0.06870162, 0.79873943,\n",
              "          0.66028714, 0.5871513 , 0.16461694, 0.7381023 , 0.32054043]]]],\n",
              "      dtype=float32)>"
            ]
          },
          "metadata": {},
          "execution_count": 25
        }
      ]
    },
    {
      "cell_type": "code",
      "source": [
        "F_squeeze = tf.squeeze(F)\n",
        "F_squeeze"
      ],
      "metadata": {
        "colab": {
          "base_uri": "https://localhost:8080/"
        },
        "id": "Aqxwumh4pSV6",
        "outputId": "b2a4b6e6-6836-4ca0-a346-06e0a6498da3"
      },
      "execution_count": null,
      "outputs": [
        {
          "output_type": "execute_result",
          "data": {
            "text/plain": [
              "<tf.Tensor: shape=(50,), dtype=float32, numpy=\n",
              "array([0.6645621 , 0.44100678, 0.3528825 , 0.46448255, 0.03366041,\n",
              "       0.68467236, 0.74011743, 0.8724445 , 0.22632635, 0.22319686,\n",
              "       0.3103881 , 0.7223358 , 0.13318717, 0.5480639 , 0.5746088 ,\n",
              "       0.8996835 , 0.00946367, 0.5212307 , 0.6345445 , 0.1993283 ,\n",
              "       0.72942245, 0.54583454, 0.10756552, 0.6767061 , 0.6602763 ,\n",
              "       0.33695042, 0.60141766, 0.21062577, 0.8527372 , 0.44062173,\n",
              "       0.9485276 , 0.23752594, 0.81179297, 0.5263394 , 0.494308  ,\n",
              "       0.21612847, 0.8457197 , 0.8718841 , 0.3083862 , 0.6868038 ,\n",
              "       0.23764038, 0.7817228 , 0.9671384 , 0.06870162, 0.79873943,\n",
              "       0.66028714, 0.5871513 , 0.16461694, 0.7381023 , 0.32054043],\n",
              "      dtype=float32)>"
            ]
          },
          "metadata": {},
          "execution_count": 26
        }
      ]
    },
    {
      "cell_type": "markdown",
      "source": [
        "# **One Hot Encoding Tensors**"
      ],
      "metadata": {
        "id": "kdMqwmukqGME"
      }
    },
    {
      "cell_type": "code",
      "source": [
        "list = [1,2,3,0]\n",
        "tf.one_hot(list, depth=4,on_value='Yess',off_value='No')"
      ],
      "metadata": {
        "colab": {
          "base_uri": "https://localhost:8080/"
        },
        "id": "_koivWl_pkhC",
        "outputId": "8a198cd3-1c80-48ed-a863-8ad930e40788"
      },
      "execution_count": null,
      "outputs": [
        {
          "output_type": "execute_result",
          "data": {
            "text/plain": [
              "<tf.Tensor: shape=(4, 4), dtype=string, numpy=\n",
              "array([[b'No', b'Yess', b'No', b'No'],\n",
              "       [b'No', b'No', b'Yess', b'No'],\n",
              "       [b'No', b'No', b'No', b'Yess'],\n",
              "       [b'Yess', b'No', b'No', b'No']], dtype=object)>"
            ]
          },
          "metadata": {},
          "execution_count": 27
        }
      ]
    },
    {
      "cell_type": "markdown",
      "source": [
        "# **CPU an GPU connectivity**"
      ],
      "metadata": {
        "id": "M23pDj3zs56F"
      }
    },
    {
      "cell_type": "code",
      "source": [
        "import tensorflow as tf\n",
        "tf.config.list_physical_devices('GPU')"
      ],
      "metadata": {
        "colab": {
          "base_uri": "https://localhost:8080/"
        },
        "id": "mu4vd893qoP-",
        "outputId": "15744b46-514b-494d-a907-c577fd315b3c"
      },
      "execution_count": null,
      "outputs": [
        {
          "output_type": "execute_result",
          "data": {
            "text/plain": [
              "[PhysicalDevice(name='/physical_device:GPU:0', device_type='GPU')]"
            ]
          },
          "metadata": {},
          "execution_count": 28
        }
      ]
    },
    {
      "cell_type": "code",
      "source": [
        "!nvidia-smi"
      ],
      "metadata": {
        "colab": {
          "base_uri": "https://localhost:8080/"
        },
        "id": "txuKxIk9tFYI",
        "outputId": "005cf981-d509-403a-9f42-f139364a8c61"
      },
      "execution_count": null,
      "outputs": [
        {
          "output_type": "stream",
          "name": "stdout",
          "text": [
            "Tue Jun 11 05:02:18 2024       \n",
            "+---------------------------------------------------------------------------------------+\n",
            "| NVIDIA-SMI 535.104.05             Driver Version: 535.104.05   CUDA Version: 12.2     |\n",
            "|-----------------------------------------+----------------------+----------------------+\n",
            "| GPU  Name                 Persistence-M | Bus-Id        Disp.A | Volatile Uncorr. ECC |\n",
            "| Fan  Temp   Perf          Pwr:Usage/Cap |         Memory-Usage | GPU-Util  Compute M. |\n",
            "|                                         |                      |               MIG M. |\n",
            "|=========================================+======================+======================|\n",
            "|   0  Tesla T4                       Off | 00000000:00:04.0 Off |                    0 |\n",
            "| N/A   41C    P0              27W /  70W |    107MiB / 15360MiB |      0%      Default |\n",
            "|                                         |                      |                  N/A |\n",
            "+-----------------------------------------+----------------------+----------------------+\n",
            "                                                                                         \n",
            "+---------------------------------------------------------------------------------------+\n",
            "| Processes:                                                                            |\n",
            "|  GPU   GI   CI        PID   Type   Process name                            GPU Memory |\n",
            "|        ID   ID                                                             Usage      |\n",
            "|=======================================================================================|\n",
            "+---------------------------------------------------------------------------------------+\n"
          ]
        }
      ]
    },
    {
      "cell_type": "code",
      "source": [
        "tf.__version__"
      ],
      "metadata": {
        "id": "5fXW4DIKt7hB",
        "outputId": "0c029846-ede9-4446-86ac-f461b9b8dfd4",
        "colab": {
          "base_uri": "https://localhost:8080/",
          "height": 36
        }
      },
      "execution_count": null,
      "outputs": [
        {
          "output_type": "execute_result",
          "data": {
            "text/plain": [
              "'2.15.0'"
            ],
            "application/vnd.google.colaboratory.intrinsic+json": {
              "type": "string"
            }
          },
          "metadata": {},
          "execution_count": 30
        }
      ]
    },
    {
      "cell_type": "code",
      "source": [],
      "metadata": {
        "id": "q8MtQv-CG3c-"
      },
      "execution_count": null,
      "outputs": []
    }
  ]
}