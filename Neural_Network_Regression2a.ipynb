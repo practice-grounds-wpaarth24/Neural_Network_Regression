{
  "nbformat": 4,
  "nbformat_minor": 0,
  "metadata": {
    "colab": {
      "provenance": [],
      "gpuType": "T4",
      "authorship_tag": "ABX9TyOEgvevCZmhvOXAVhnDh5PF",
      "include_colab_link": true
    },
    "kernelspec": {
      "name": "python3",
      "display_name": "Python 3"
    },
    "language_info": {
      "name": "python"
    },
    "accelerator": "GPU"
  },
  "cells": [
    {
      "cell_type": "markdown",
      "metadata": {
        "id": "view-in-github",
        "colab_type": "text"
      },
      "source": [
        "<a href=\"https://colab.research.google.com/github/practice-grounds-wpaarth24/Neural_Network_Regression/blob/main/Neural_Network_Regression2a.ipynb\" target=\"_parent\"><img src=\"https://colab.research.google.com/assets/colab-badge.svg\" alt=\"Open In Colab\"/></a>"
      ]
    },
    {
      "cell_type": "code",
      "execution_count": null,
      "metadata": {
        "colab": {
          "base_uri": "https://localhost:8080/"
        },
        "id": "LXna1uObZztC",
        "outputId": "a3ed3518-bd13-4356-9b8b-2efd37958ceb"
      },
      "outputs": [
        {
          "output_type": "execute_result",
          "data": {
            "text/plain": [
              "<tf.Tensor: shape=(50,), dtype=int32, numpy=\n",
              "array([-100,  -96,  -92,  -88,  -84,  -80,  -76,  -72,  -68,  -64,  -60,\n",
              "        -56,  -52,  -48,  -44,  -40,  -36,  -32,  -28,  -24,  -20,  -16,\n",
              "        -12,   -8,   -4,    0,    4,    8,   12,   16,   20,   24,   28,\n",
              "         32,   36,   40,   44,   48,   52,   56,   60,   64,   68,   72,\n",
              "         76,   80,   84,   88,   92,   96], dtype=int32)>"
            ]
          },
          "metadata": {},
          "execution_count": 1
        }
      ],
      "source": [
        "import tensorflow as tf\n",
        "X = tf.range(-100, 100, 4)\n",
        "X"
      ]
    },
    {
      "cell_type": "code",
      "source": [
        "Y = X + 10\n",
        "Y"
      ],
      "metadata": {
        "colab": {
          "base_uri": "https://localhost:8080/"
        },
        "id": "itAOLLJbZ62d",
        "outputId": "74ec9762-9686-4585-9e60-d03b063f77c4"
      },
      "execution_count": null,
      "outputs": [
        {
          "output_type": "execute_result",
          "data": {
            "text/plain": [
              "<tf.Tensor: shape=(50,), dtype=int32, numpy=\n",
              "array([-90, -86, -82, -78, -74, -70, -66, -62, -58, -54, -50, -46, -42,\n",
              "       -38, -34, -30, -26, -22, -18, -14, -10,  -6,  -2,   2,   6,  10,\n",
              "        14,  18,  22,  26,  30,  34,  38,  42,  46,  50,  54,  58,  62,\n",
              "        66,  70,  74,  78,  82,  86,  90,  94,  98, 102, 106], dtype=int32)>"
            ]
          },
          "metadata": {},
          "execution_count": 2
        }
      ]
    },
    {
      "cell_type": "code",
      "source": [
        "X_train = X[:40]\n",
        "X_test = X[40:]\n",
        "Y_train = Y[:40]\n",
        "Y_test = Y[40:]\n",
        "X_test"
      ],
      "metadata": {
        "colab": {
          "base_uri": "https://localhost:8080/"
        },
        "id": "DgY_LxPxaJ1u",
        "outputId": "90f02cc4-19e0-4ebd-ba31-f2ebbc3569f0"
      },
      "execution_count": null,
      "outputs": [
        {
          "output_type": "execute_result",
          "data": {
            "text/plain": [
              "<tf.Tensor: shape=(10,), dtype=int32, numpy=array([60, 64, 68, 72, 76, 80, 84, 88, 92, 96], dtype=int32)>"
            ]
          },
          "metadata": {},
          "execution_count": 3
        }
      ]
    },
    {
      "cell_type": "code",
      "source": [
        "import matplotlib.pyplot as plt\n",
        "plt.scatter(X_train, Y_train, c='b', label='train')\n",
        "plt.scatter(X_test, Y_test, c='g', label='test')\n",
        "plt.legend()"
      ],
      "metadata": {
        "colab": {
          "base_uri": "https://localhost:8080/",
          "height": 448
        },
        "id": "4SQkKuhqaLzY",
        "outputId": "746331bc-f7c2-4772-f0e2-2f0884b5c962"
      },
      "execution_count": null,
      "outputs": [
        {
          "output_type": "execute_result",
          "data": {
            "text/plain": [
              "<matplotlib.legend.Legend at 0x7d8f55064730>"
            ]
          },
          "metadata": {},
          "execution_count": 4
        },
        {
          "output_type": "display_data",
          "data": {
            "text/plain": [
              "<Figure size 640x480 with 1 Axes>"
            ],
            "image/png": "[encoded data removed]"
          },
          "metadata": {}
        }
      ]
    },
    {
      "cell_type": "code",
      "source": [
        "tf.random.set_seed(42)\n",
        "model = tf.keras.Sequential()\n",
        "model.add(tf.keras.layers.Dense(100, activation='relu'))\n",
        "model.add(tf.keras.layers.Dense(1))"
      ],
      "metadata": {
        "id": "gCR-iboPaNlc"
      },
      "execution_count": null,
      "outputs": []
    },
    {
      "cell_type": "code",
      "source": [
        "model.compile(loss = tf.keras.losses.mae,\n",
        "              optimizer = tf.keras.optimizers.Adam(learning_rate=0.01),\n",
        "              metrics = ['mae'])"
      ],
      "metadata": {
        "id": "vpnAzRGibRzx"
      },
      "execution_count": null,
      "outputs": []
    },
    {
      "cell_type": "code",
      "source": [
        "model.fit(tf.expand_dims(X_train,axis=-1), Y_train, epochs = 100, verbose=1)"
      ],
      "metadata": {
        "colab": {
          "base_uri": "https://localhost:8080/"
        },
        "id": "lkP9nbPIaU8n",
        "outputId": "ffe4f017-6813-4932-d3eb-4f80fb320451"
      },
      "execution_count": null,
      "outputs": [
        {
          "output_type": "stream",
          "name": "stdout",
          "text": [
            "Epoch 1/100\n",
            "2/2 [==============================] - 3s 17ms/step - loss: 43.2330 - mae: 43.2330\n",
            "Epoch 2/100\n",
            "2/2 [==============================] - 0s 10ms/step - loss: 31.2864 - mae: 31.2864\n",
            "Epoch 3/100\n",
            "2/2 [==============================] - 0s 11ms/step - loss: 20.6404 - mae: 20.6404\n",
            "Epoch 4/100\n",
            "2/2 [==============================] - 0s 10ms/step - loss: 12.1169 - mae: 12.1169\n",
            "Epoch 5/100\n",
            "2/2 [==============================] - 0s 9ms/step - loss: 14.9009 - mae: 14.9009\n",
            "Epoch 6/100\n",
            "2/2 [==============================] - 0s 13ms/step - loss: 14.3430 - mae: 14.3430\n",
            "Epoch 7/100\n",
            "2/2 [==============================] - 0s 15ms/step - loss: 10.1523 - mae: 10.1523\n",
            "Epoch 8/100\n",
            "2/2 [==============================] - 0s 12ms/step - loss: 5.6697 - mae: 5.6697\n",
            "Epoch 9/100\n",
            "2/2 [==============================] - 0s 12ms/step - loss: 5.7358 - mae: 5.7358\n",
            "Epoch 10/100\n",
            "2/2 [==============================] - 0s 20ms/step - loss: 6.7440 - mae: 6.7440\n",
            "Epoch 11/100\n",
            "2/2 [==============================] - 0s 16ms/step - loss: 6.4176 - mae: 6.4176\n",
            "Epoch 12/100\n",
            "2/2 [==============================] - 0s 16ms/step - loss: 5.0068 - mae: 5.0068\n",
            "Epoch 13/100\n",
            "2/2 [==============================] - 0s 8ms/step - loss: 3.9679 - mae: 3.9679\n",
            "Epoch 14/100\n",
            "2/2 [==============================] - 0s 9ms/step - loss: 4.8817 - mae: 4.8817\n",
            "Epoch 15/100\n",
            "2/2 [==============================] - 0s 8ms/step - loss: 4.8247 - mae: 4.8247\n",
            "Epoch 16/100\n",
            "2/2 [==============================] - 0s 8ms/step - loss: 4.2518 - mae: 4.2518\n",
            "Epoch 17/100\n",
            "2/2 [==============================] - 0s 7ms/step - loss: 4.4917 - mae: 4.4917\n",
            "Epoch 18/100\n",
            "2/2 [==============================] - 0s 8ms/step - loss: 4.6000 - mae: 4.6000\n",
            "Epoch 19/100\n",
            "2/2 [==============================] - 0s 7ms/step - loss: 4.2779 - mae: 4.2779\n",
            "Epoch 20/100\n",
            "2/2 [==============================] - 0s 7ms/step - loss: 3.8173 - mae: 3.8173\n",
            "Epoch 21/100\n",
            "2/2 [==============================] - 0s 7ms/step - loss: 4.0428 - mae: 4.0428\n",
            "Epoch 22/100\n",
            "2/2 [==============================] - 0s 8ms/step - loss: 3.8907 - mae: 3.8907\n",
            "Epoch 23/100\n",
            "2/2 [==============================] - 0s 7ms/step - loss: 3.8020 - mae: 3.8020\n",
            "Epoch 24/100\n",
            "2/2 [==============================] - 0s 10ms/step - loss: 3.9147 - mae: 3.9147\n",
            "Epoch 25/100\n",
            "2/2 [==============================] - 0s 17ms/step - loss: 3.7047 - mae: 3.7047\n",
            "Epoch 26/100\n",
            "2/2 [==============================] - 0s 11ms/step - loss: 3.7030 - mae: 3.7030\n",
            "Epoch 27/100\n",
            "2/2 [==============================] - 0s 11ms/step - loss: 3.8005 - mae: 3.8005\n",
            "Epoch 28/100\n",
            "2/2 [==============================] - 0s 11ms/step - loss: 3.4896 - mae: 3.4896\n",
            "Epoch 29/100\n",
            "2/2 [==============================] - 0s 12ms/step - loss: 3.7149 - mae: 3.7149\n",
            "Epoch 30/100\n",
            "2/2 [==============================] - 0s 13ms/step - loss: 3.5747 - mae: 3.5747\n",
            "Epoch 31/100\n",
            "2/2 [==============================] - 0s 11ms/step - loss: 3.6674 - mae: 3.6674\n",
            "Epoch 32/100\n",
            "2/2 [==============================] - 0s 10ms/step - loss: 4.2348 - mae: 4.2348\n",
            "Epoch 33/100\n",
            "2/2 [==============================] - 0s 12ms/step - loss: 3.4475 - mae: 3.4475\n",
            "Epoch 34/100\n",
            "2/2 [==============================] - 0s 11ms/step - loss: 3.5282 - mae: 3.5282\n",
            "Epoch 35/100\n",
            "2/2 [==============================] - 0s 9ms/step - loss: 3.7115 - mae: 3.7115\n",
            "Epoch 36/100\n",
            "2/2 [==============================] - 0s 9ms/step - loss: 3.4820 - mae: 3.4820\n",
            "Epoch 37/100\n",
            "2/2 [==============================] - 0s 8ms/step - loss: 3.2404 - mae: 3.2404\n",
            "Epoch 38/100\n",
            "2/2 [==============================] - 0s 8ms/step - loss: 3.1642 - mae: 3.1642\n",
            "Epoch 39/100\n",
            "2/2 [==============================] - 0s 8ms/step - loss: 3.1059 - mae: 3.1059\n",
            "Epoch 40/100\n",
            "2/2 [==============================] - 0s 8ms/step - loss: 3.0824 - mae: 3.0824\n",
            "Epoch 41/100\n",
            "2/2 [==============================] - 0s 8ms/step - loss: 3.1302 - mae: 3.1302\n",
            "Epoch 42/100\n",
            "2/2 [==============================] - 0s 10ms/step - loss: 3.0272 - mae: 3.0272\n",
            "Epoch 43/100\n",
            "2/2 [==============================] - 0s 9ms/step - loss: 2.9854 - mae: 2.9854\n",
            "Epoch 44/100\n",
            "2/2 [==============================] - 0s 9ms/step - loss: 2.9093 - mae: 2.9093\n",
            "Epoch 45/100\n",
            "2/2 [==============================] - 0s 12ms/step - loss: 2.9039 - mae: 2.9039\n",
            "Epoch 46/100\n",
            "2/2 [==============================] - 0s 11ms/step - loss: 3.1400 - mae: 3.1400\n",
            "Epoch 47/100\n",
            "2/2 [==============================] - 0s 9ms/step - loss: 2.9750 - mae: 2.9750\n",
            "Epoch 48/100\n",
            "2/2 [==============================] - 0s 13ms/step - loss: 2.7467 - mae: 2.7467\n",
            "Epoch 49/100\n",
            "2/2 [==============================] - 0s 9ms/step - loss: 2.7854 - mae: 2.7854\n",
            "Epoch 50/100\n",
            "2/2 [==============================] - 0s 9ms/step - loss: 2.5960 - mae: 2.5960\n",
            "Epoch 51/100\n",
            "2/2 [==============================] - 0s 15ms/step - loss: 3.1289 - mae: 3.1289\n",
            "Epoch 52/100\n",
            "2/2 [==============================] - 0s 9ms/step - loss: 2.8538 - mae: 2.8538\n",
            "Epoch 53/100\n",
            "2/2 [==============================] - 0s 9ms/step - loss: 2.3815 - mae: 2.3815\n",
            "Epoch 54/100\n",
            "2/2 [==============================] - 0s 10ms/step - loss: 2.3430 - mae: 2.3430\n",
            "Epoch 55/100\n",
            "2/2 [==============================] - 0s 9ms/step - loss: 2.3026 - mae: 2.3026\n",
            "Epoch 56/100\n",
            "2/2 [==============================] - 0s 10ms/step - loss: 2.2226 - mae: 2.2226\n",
            "Epoch 57/100\n",
            "2/2 [==============================] - 0s 8ms/step - loss: 2.2001 - mae: 2.2001\n",
            "Epoch 58/100\n",
            "2/2 [==============================] - 0s 8ms/step - loss: 2.0609 - mae: 2.0609\n",
            "Epoch 59/100\n",
            "2/2 [==============================] - 0s 9ms/step - loss: 2.2855 - mae: 2.2855\n",
            "Epoch 60/100\n",
            "2/2 [==============================] - 0s 10ms/step - loss: 2.1131 - mae: 2.1131\n",
            "Epoch 61/100\n",
            "2/2 [==============================] - 0s 8ms/step - loss: 2.0304 - mae: 2.0304\n",
            "Epoch 62/100\n",
            "2/2 [==============================] - 0s 9ms/step - loss: 1.7965 - mae: 1.7965\n",
            "Epoch 63/100\n",
            "2/2 [==============================] - 0s 9ms/step - loss: 1.7788 - mae: 1.7788\n",
            "Epoch 64/100\n",
            "2/2 [==============================] - 0s 8ms/step - loss: 1.6577 - mae: 1.6577\n",
            "Epoch 65/100\n",
            "2/2 [==============================] - 0s 9ms/step - loss: 1.7782 - mae: 1.7782\n",
            "Epoch 66/100\n",
            "2/2 [==============================] - 0s 9ms/step - loss: 1.9631 - mae: 1.9631\n",
            "Epoch 67/100\n",
            "2/2 [==============================] - 0s 8ms/step - loss: 1.3953 - mae: 1.3953\n",
            "Epoch 68/100\n",
            "2/2 [==============================] - 0s 8ms/step - loss: 2.0263 - mae: 2.0263\n",
            "Epoch 69/100\n",
            "2/2 [==============================] - 0s 8ms/step - loss: 1.9056 - mae: 1.9056\n",
            "Epoch 70/100\n",
            "2/2 [==============================] - 0s 9ms/step - loss: 1.3397 - mae: 1.3397\n",
            "Epoch 71/100\n",
            "2/2 [==============================] - 0s 8ms/step - loss: 1.2643 - mae: 1.2643\n",
            "Epoch 72/100\n",
            "2/2 [==============================] - 0s 8ms/step - loss: 1.5833 - mae: 1.5833\n",
            "Epoch 73/100\n",
            "2/2 [==============================] - 0s 10ms/step - loss: 0.8709 - mae: 0.8709\n",
            "Epoch 74/100\n",
            "2/2 [==============================] - 0s 8ms/step - loss: 0.9664 - mae: 0.9664\n",
            "Epoch 75/100\n",
            "2/2 [==============================] - 0s 8ms/step - loss: 0.6855 - mae: 0.6855\n",
            "Epoch 76/100\n",
            "2/2 [==============================] - 0s 8ms/step - loss: 0.9808 - mae: 0.9808\n",
            "Epoch 77/100\n",
            "2/2 [==============================] - 0s 10ms/step - loss: 1.5785 - mae: 1.5785\n",
            "Epoch 78/100\n",
            "2/2 [==============================] - 0s 13ms/step - loss: 1.3406 - mae: 1.3406\n",
            "Epoch 79/100\n",
            "2/2 [==============================] - 0s 11ms/step - loss: 1.0459 - mae: 1.0459\n",
            "Epoch 80/100\n",
            "2/2 [==============================] - 0s 8ms/step - loss: 2.2846 - mae: 2.2846\n",
            "Epoch 81/100\n",
            "2/2 [==============================] - 0s 8ms/step - loss: 3.2323 - mae: 3.2323\n",
            "Epoch 82/100\n",
            "2/2 [==============================] - 0s 8ms/step - loss: 1.1792 - mae: 1.1792\n",
            "Epoch 83/100\n",
            "2/2 [==============================] - 0s 8ms/step - loss: 2.3450 - mae: 2.3450\n",
            "Epoch 84/100\n",
            "2/2 [==============================] - 0s 8ms/step - loss: 1.6289 - mae: 1.6289\n",
            "Epoch 85/100\n",
            "2/2 [==============================] - 0s 8ms/step - loss: 2.2374 - mae: 2.2374\n",
            "Epoch 86/100\n",
            "2/2 [==============================] - 0s 8ms/step - loss: 3.0798 - mae: 3.0798\n",
            "Epoch 87/100\n",
            "2/2 [==============================] - 0s 8ms/step - loss: 0.9700 - mae: 0.9700\n",
            "Epoch 88/100\n",
            "2/2 [==============================] - 0s 8ms/step - loss: 2.8372 - mae: 2.8372\n",
            "Epoch 89/100\n",
            "2/2 [==============================] - 0s 8ms/step - loss: 2.0411 - mae: 2.0411\n",
            "Epoch 90/100\n",
            "2/2 [==============================] - 0s 9ms/step - loss: 1.2343 - mae: 1.2343\n",
            "Epoch 91/100\n",
            "2/2 [==============================] - 0s 8ms/step - loss: 2.1743 - mae: 2.1743\n",
            "Epoch 92/100\n",
            "2/2 [==============================] - 0s 8ms/step - loss: 0.9097 - mae: 0.9097\n",
            "Epoch 93/100\n",
            "2/2 [==============================] - 0s 8ms/step - loss: 2.7456 - mae: 2.7456\n",
            "Epoch 94/100\n",
            "2/2 [==============================] - 0s 9ms/step - loss: 2.0677 - mae: 2.0677\n",
            "Epoch 95/100\n",
            "2/2 [==============================] - 0s 9ms/step - loss: 1.6506 - mae: 1.6506\n",
            "Epoch 96/100\n",
            "2/2 [==============================] - 0s 8ms/step - loss: 2.0762 - mae: 2.0762\n",
            "Epoch 97/100\n",
            "2/2 [==============================] - 0s 8ms/step - loss: 0.7016 - mae: 0.7016\n",
            "Epoch 98/100\n",
            "2/2 [==============================] - 0s 11ms/step - loss: 2.2563 - mae: 2.2563\n",
            "Epoch 99/100\n",
            "2/2 [==============================] - 0s 9ms/step - loss: 1.9159 - mae: 1.9159\n",
            "Epoch 100/100\n",
            "2/2 [==============================] - 0s 9ms/step - loss: 0.7608 - mae: 0.7608\n"
          ]
        },
        {
          "output_type": "execute_result",
          "data": {
            "text/plain": [
              "<keras.src.callbacks.History at 0x7d8f5016d390>"
            ]
          },
          "metadata": {},
          "execution_count": 7
        }
      ]
    },
    {
      "cell_type": "code",
      "source": [
        "from tensorflow.keras.utils import plot_model\n",
        "plot_model(model=model, show_shapes=True)"
      ],
      "metadata": {
        "colab": {
          "base_uri": "https://localhost:8080/",
          "height": 312
        },
        "id": "pFnYWXc_aYf2",
        "outputId": "de6cf0cf-86db-451d-8734-936ee9ec541c"
      },
      "execution_count": null,
      "outputs": [
        {
          "output_type": "execute_result",
          "data": {
            "image/png": "[encoded data removed]",
            "text/plain": [
              "<IPython.core.display.Image object>"
            ]
          },
          "metadata": {},
          "execution_count": 64
        }
      ]
    },
    {
      "cell_type": "code",
      "source": [
        "model.predict([10])"
      ],
      "metadata": {
        "colab": {
          "base_uri": "https://localhost:8080/"
        },
        "id": "i0iYHAzVwwaO",
        "outputId": "46b98d81-e60f-417a-a520-e12ce1a1a2bc"
      },
      "execution_count": null,
      "outputs": [
        {
          "output_type": "stream",
          "name": "stdout",
          "text": [
            "1/1 [==============================] - 0s 125ms/step\n"
          ]
        },
        {
          "output_type": "execute_result",
          "data": {
            "text/plain": [
              "array([[20.114067]], dtype=float32)"
            ]
          },
          "metadata": {},
          "execution_count": 8
        }
      ]
    },
    {
      "cell_type": "code",
      "source": [
        "y_pred = model.predict(X_test)\n",
        "y_pred"
      ],
      "metadata": {
        "colab": {
          "base_uri": "https://localhost:8080/"
        },
        "id": "gkaOLeEZcGza",
        "outputId": "961887e1-401a-4a2e-9a41-b0b97df8ae13"
      },
      "execution_count": null,
      "outputs": [
        {
          "output_type": "stream",
          "name": "stdout",
          "text": [
            "1/1 [==============================] - 0s 44ms/step\n"
          ]
        },
        {
          "output_type": "execute_result",
          "data": {
            "text/plain": [
              "array([[ 70.31692 ],\n",
              "       [ 74.37621 ],\n",
              "       [ 78.4355  ],\n",
              "       [ 82.4948  ],\n",
              "       [ 86.554085],\n",
              "       [ 90.61338 ],\n",
              "       [ 94.67267 ],\n",
              "       [ 98.731964],\n",
              "       [102.791245],\n",
              "       [106.85054 ]], dtype=float32)"
            ]
          },
          "metadata": {},
          "execution_count": 9
        }
      ]
    },
    {
      "cell_type": "code",
      "source": [
        "Y_test"
      ],
      "metadata": {
        "colab": {
          "base_uri": "https://localhost:8080/"
        },
        "id": "z14ogYsbcZmw",
        "outputId": "966bdaf4-2cbd-479d-cc8f-7f80e04b66cd"
      },
      "execution_count": null,
      "outputs": [
        {
          "output_type": "execute_result",
          "data": {
            "text/plain": [
              "<tf.Tensor: shape=(10,), dtype=int32, numpy=array([ 70,  74,  78,  82,  86,  90,  94,  98, 102, 106], dtype=int32)>"
            ]
          },
          "metadata": {},
          "execution_count": 10
        }
      ]
    },
    {
      "cell_type": "code",
      "source": [
        "def predictions(\n",
        "    train_data = X_train,\n",
        "    train_labels = Y_train,\n",
        "    test_data = X_test,\n",
        "    test_labels = Y_test,\n",
        "    predictions = y_pred):\n",
        "  plt.figure(figsize=(10,7))\n",
        "  plt.scatter(train_data, train_labels, c='b', label = \"Training Data\")\n",
        "  plt.scatter(test_data, test_labels, c='g', label = \"Testing Data\")\n",
        "  plt.scatter(test_data, predictions, c='r', label=\"Predictions\")\n",
        "  plt.legend()"
      ],
      "metadata": {
        "id": "uuJzcWd7cJG6"
      },
      "execution_count": null,
      "outputs": []
    },
    {
      "cell_type": "code",
      "source": [
        "predictions()"
      ],
      "metadata": {
        "colab": {
          "base_uri": "https://localhost:8080/",
          "height": 599
        },
        "id": "D1lqh536cPaj",
        "outputId": "45466da7-1f7e-462b-f196-05aac8d1eec0"
      },
      "execution_count": null,
      "outputs": [
        {
          "output_type": "display_data",
          "data": {
            "text/plain": [
              "<Figure size 1000x700 with 1 Axes>"
            ],
            "image/png": "[encoded data removed]"
          },
          "metadata": {}
        }
      ]
    },
    {
      "cell_type": "code",
      "source": [
        "mae = tf.metrics.mean_absolute_error(Y_test, y_pred)\n",
        "mae"
      ],
      "metadata": {
        "id": "uZfAC_2acQ_a",
        "colab": {
          "base_uri": "https://localhost:8080/"
        },
        "outputId": "e037e4c2-3dcb-46dd-d242-172538202412"
      },
      "execution_count": null,
      "outputs": [
        {
          "output_type": "execute_result",
          "data": {
            "text/plain": [
              "<tf.Tensor: shape=(10,), dtype=float32, numpy=\n",
              "array([17.746466, 14.574272, 12.2258  , 10.70104 , 10.      , 10.122676,\n",
              "       11.069067, 12.839178, 15.432996, 18.85054 ], dtype=float32)>"
            ]
          },
          "metadata": {},
          "execution_count": 13
        }
      ]
    },
    {
      "cell_type": "code",
      "source": [
        "tf.constant(y_pred)\n",
        "tf.squeeze(y_pred)"
      ],
      "metadata": {
        "colab": {
          "base_uri": "https://localhost:8080/"
        },
        "id": "oehS44QwjOrh",
        "outputId": "4ef9f392-e69e-4a46-a17b-dad5f97d9d3b"
      },
      "execution_count": null,
      "outputs": [
        {
          "output_type": "execute_result",
          "data": {
            "text/plain": [
              "<tf.Tensor: shape=(10,), dtype=float32, numpy=\n",
              "array([ 70.31692 ,  74.37621 ,  78.4355  ,  82.4948  ,  86.554085,\n",
              "        90.61338 ,  94.67267 ,  98.731964, 102.791245, 106.85054 ],\n",
              "      dtype=float32)>"
            ]
          },
          "metadata": {},
          "execution_count": 14
        }
      ]
    },
    {
      "cell_type": "code",
      "source": [
        "#MAE\n",
        "mae = tf.metrics.mean_absolute_error(Y_test, tf.squeeze(y_pred))\n",
        "mae\n",
        "#Dimensions should be the same"
      ],
      "metadata": {
        "colab": {
          "base_uri": "https://localhost:8080/"
        },
        "id": "M0ts3o7njtPH",
        "outputId": "3a113dbe-0e4b-404e-b823-8d1235439355"
      },
      "execution_count": null,
      "outputs": [
        {
          "output_type": "execute_result",
          "data": {
            "text/plain": [
              "<tf.Tensor: shape=(), dtype=float32, numpy=0.58373106>"
            ]
          },
          "metadata": {},
          "execution_count": 15
        }
      ]
    },
    {
      "cell_type": "code",
      "source": [
        "mse = tf.metrics.mean_squared_error(Y_test, tf.squeeze(y_pred))\n",
        "mse"
      ],
      "metadata": {
        "colab": {
          "base_uri": "https://localhost:8080/"
        },
        "id": "WcettiKPkFZy",
        "outputId": "69349d16-020e-46be-d5df-cb248c45b5ce"
      },
      "execution_count": null,
      "outputs": [
        {
          "output_type": "execute_result",
          "data": {
            "text/plain": [
              "<tf.Tensor: shape=(), dtype=float32, numpy=0.3697444>"
            ]
          },
          "metadata": {},
          "execution_count": 16
        }
      ]
    },
    {
      "cell_type": "code",
      "source": [
        "huber_loss = tf.keras.losses.Huber()\n",
        "loss_value = huber_loss(Y_test, tf.squeeze(y_pred))\n",
        "loss_value"
      ],
      "metadata": {
        "colab": {
          "base_uri": "https://localhost:8080/"
        },
        "id": "GEBesaCepZ1n",
        "outputId": "33b06113-dc6d-49cf-cff6-cd266a36fe65"
      },
      "execution_count": null,
      "outputs": [
        {
          "output_type": "execute_result",
          "data": {
            "text/plain": [
              "<tf.Tensor: shape=(), dtype=float32, numpy=0.1848722>"
            ]
          },
          "metadata": {},
          "execution_count": 17
        }
      ]
    },
    {
      "cell_type": "markdown",
      "source": [
        "# **Modelling Experiments**\n",
        "**Model 1**: 1 layer trained for 100 epochs\n",
        "\n",
        "**Model 2**: 2 layers trained for 100 epochs\n",
        "\n",
        "**Model 3**: 2 layers trained for 500 epochs\n"
      ],
      "metadata": {
        "id": "zx7aHh7rCfJ3"
      }
    },
    {
      "cell_type": "code",
      "source": [
        "#Saving a tf model\n",
        "'''\n",
        "Create and train a new model instance like:\n",
        "model = create model()\n",
        "model.fit(train_images, train_labels, epochs=5)\n",
        "\n",
        "Saving is like\n",
        "!mkdir -p saved_model\n",
        "model.save('saved_model/my_model')\n",
        "'''\n",
        "\n",
        "#HDF5 Standard\n",
        "#model.save('my_model.h5')"
      ],
      "metadata": {
        "id": "QybNnyTcDh2C"
      },
      "execution_count": null,
      "outputs": []
    }
  ]
}